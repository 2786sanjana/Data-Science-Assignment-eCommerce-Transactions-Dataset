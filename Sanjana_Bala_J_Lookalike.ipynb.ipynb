{
 "cells": [
  {
   "cell_type": "code",
   "execution_count": 2,
   "id": "81bf5716-fc56-4fc0-9198-bab86e13a84b",
   "metadata": {},
   "outputs": [
    {
     "name": "stdout",
     "output_type": "stream",
     "text": [
      "Index(['TransactionID', 'CustomerID', 'ProductID', 'TransactionDate',\n",
      "       'Quantity', 'TotalValue', 'Price_x', 'CustomerName', 'Region',\n",
      "       'SignupDate', 'ProductName', 'Category', 'Price_y'],\n",
      "      dtype='object')\n"
     ]
    }
   ],
   "source": [
    "import pandas as pd\n",
    "from sklearn.metrics.pairwise import cosine_similarity\n",
    "from sklearn.preprocessing import LabelEncoder, StandardScaler\n",
    "\n",
    "# Step 1: Load and merge the datasets\n",
    "customers = pd.read_csv('Customers.csv')\n",
    "products = pd.read_csv('Products.csv')\n",
    "transactions = pd.read_csv('Transactions.csv')\n",
    "\n",
    "# Merge datasets\n",
    "merged = transactions.merge(customers, on='CustomerID').merge(products, on='ProductID')\n",
    "print(merged.columns)"
   ]
  },
  {
   "cell_type": "code",
   "execution_count": 3,
   "id": "aee52adb-49f9-47f8-bc2f-35475cc91bc5",
   "metadata": {},
   "outputs": [],
   "source": [
    "# Step 1: Aggregating Customer Features\n",
    "customer_features = merged.groupby('CustomerID').agg({\n",
    "    'Region': 'first',             # Region: use the first region for each customer\n",
    "    'TotalValue': 'sum',           # Total revenue from the customer\n",
    "    'Quantity': 'sum',             # Total quantity purchased by the customer\n",
    "    'Price_x': 'mean',             # Average product price in transactions (Price_x from Transactions.csv)\n",
    "    'ProductID': 'nunique',        # Number of unique products purchased\n",
    "}).reset_index()"
   ]
  },
  {
   "cell_type": "code",
   "execution_count": 4,
   "id": "4ebee18e-974c-48ff-9865-27ddb25e5718",
   "metadata": {},
   "outputs": [],
   "source": [
    "# Step 2: Encoding Categorical Data (Region)\n",
    "le_region = LabelEncoder()\n",
    "customer_features['Region'] = le_region.fit_transform(customer_features['Region'])\n"
   ]
  },
  {
   "cell_type": "code",
   "execution_count": 5,
   "id": "a041fff5-bfb6-4e24-a786-4fae4633c325",
   "metadata": {},
   "outputs": [],
   "source": [
    "# Step 3: Standardizing the Numeric Features\n",
    "scaler = StandardScaler()\n",
    "scaled_features = scaler.fit_transform(customer_features[['TotalValue', 'Quantity', 'Price_x', 'ProductID']])\n"
   ]
  },
  {
   "cell_type": "code",
   "execution_count": 6,
   "id": "36e21ce7-2b44-4f76-81cd-2fa3c4832aee",
   "metadata": {},
   "outputs": [],
   "source": [
    "# Step 4: Calculating Cosine Similarity\n",
    "similarity_matrix = cosine_similarity(scaled_features)"
   ]
  },
  {
   "cell_type": "code",
   "execution_count": 7,
   "id": "abd3255b-8f41-4366-8c7f-cc6b42687d88",
   "metadata": {},
   "outputs": [],
   "source": [
    "# Step 5: Finding Top 3 Lookalikes for Each Customer (For the first 20 customers)\n",
    "lookalike_map = {}\n",
    "\n",
    "# Loop over the first 20 customers (C0001 to C0020)\n",
    "for idx, customer_id in enumerate(customer_features['CustomerID'][:20]):\n",
    "    # Get similarity scores for the current customer\n",
    "    similarity_scores = list(enumerate(similarity_matrix[idx]))\n",
    "    # Sort by similarity score (descending) and exclude the customer itself\n",
    "    similarity_scores = sorted(similarity_scores, key=lambda x: x[1], reverse=True)\n",
    "    top_3 = similarity_scores[1:4]  # Get top 3 similar customers\n",
    "    lookalike_map[customer_id] = [\n",
    "        (customer_features['CustomerID'].iloc[i], round(score, 4)) for i, score in top_3\n",
    "    ]\n"
   ]
  },
  {
   "cell_type": "code",
   "execution_count": 8,
   "id": "18b58d77-35e3-49b9-8614-83ab516b280f",
   "metadata": {},
   "outputs": [
    {
     "name": "stdout",
     "output_type": "stream",
     "text": [
      "   CustomerID                                         Lookalikes\n",
      "0       C0001  [(C0137, 0.9697), (C0103, 0.9658), (C0191, 0.9...\n",
      "1       C0002  [(C0029, 0.9998), (C0077, 0.9939), (C0025, 0.9...\n",
      "2       C0003  [(C0010, 0.9551), (C0111, 0.9327), (C0176, 0.9...\n",
      "3       C0004  [(C0075, 0.9971), (C0068, 0.9852), (C0175, 0.9...\n",
      "4       C0005  [(C0130, 0.998), (C0128, 0.9968), (C0020, 0.99...\n",
      "5       C0006  [(C0196, 0.9952), (C0079, 0.9882), (C0168, 0.9...\n",
      "6       C0007  [(C0125, 0.997), (C0085, 0.9967), (C0078, 0.98...\n",
      "7       C0008  [(C0179, 0.9917), (C0090, 0.984), (C0084, 0.96...\n",
      "8       C0009  [(C0192, 0.9984), (C0128, 0.9864), (C0061, 0.9...\n",
      "9       C0010  [(C0142, 0.985), (C0121, 0.9744), (C0094, 0.96...\n",
      "10      C0011  [(C0023, 0.9934), (C0100, 0.9668), (C0064, 0.9...\n",
      "11      C0012  [(C0045, 0.9957), (C0143, 0.9943), (C0041, 0.9...\n",
      "12      C0013  [(C0059, 0.998), (C0141, 0.997), (C0104, 0.9942)]\n",
      "13      C0014  [(C0097, 0.998), (C0036, 0.9959), (C0063, 0.99...\n",
      "14      C0015  [(C0058, 0.9991), (C0186, 0.9958), (C0131, 0.9...\n",
      "15      C0016  [(C0107, 0.9963), (C0048, 0.9873), (C0187, 0.9...\n",
      "16      C0017  [(C0084, 0.9956), (C0109, 0.9839), (C0075, 0.9...\n",
      "17      C0018  [(C0165, 0.984), (C0182, 0.9629), (C0143, 0.94...\n",
      "18      C0019  [(C0172, 0.9451), (C0088, 0.8727), (C0119, 0.8...\n",
      "19      C0020  [(C0167, 0.9996), (C0130, 0.9977), (C0005, 0.9...\n"
     ]
    }
   ],
   "source": [
    "# Step 6: Generating Lookalike CSV\n",
    "lookalike_df = pd.DataFrame([\n",
    "    {'CustomerID': cust_id, 'Lookalikes': lookalikes}\n",
    "    for cust_id, lookalikes in lookalike_map.items()\n",
    "])\n",
    "\n",
    "# Save to Lookalike.csv\n",
    "lookalike_df.to_csv('Lookalike.csv', index=False)\n",
    "\n",
    "# Display Lookalike Map for First 20 Customers\n",
    "print(lookalike_df)"
   ]
  }
 ],
 "metadata": {
  "kernelspec": {
   "display_name": "Python 3 (ipykernel)",
   "language": "python",
   "name": "python3"
  },
  "language_info": {
   "codemirror_mode": {
    "name": "ipython",
    "version": 3
   },
   "file_extension": ".py",
   "mimetype": "text/x-python",
   "name": "python",
   "nbconvert_exporter": "python",
   "pygments_lexer": "ipython3",
   "version": "3.12.4"
  }
 },
 "nbformat": 4,
 "nbformat_minor": 5
}
